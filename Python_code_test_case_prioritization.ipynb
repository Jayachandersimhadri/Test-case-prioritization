{
  "nbformat": 4,
  "nbformat_minor": 0,
  "metadata": {
    "colab": {
      "provenance": []
    },
    "kernelspec": {
      "name": "python3",
      "display_name": "Python 3"
    },
    "language_info": {
      "name": "python"
    }
  },
  "cells": [
    {
      "cell_type": "code",
      "execution_count": 196,
      "metadata": {
        "id": "U9jYlbpxAXNf"
      },
      "outputs": [],
      "source": [
        "import numpy as np\n",
        "import pandas as pd\n",
        "import matplotlib.pyplot as plt"
      ]
    },
    {
      "cell_type": "code",
      "source": [
        "dataset=pd.read_csv('Test_Project_MIS.csv')\n"
      ],
      "metadata": {
        "id": "KyUlf7XTAadu"
      },
      "execution_count": 197,
      "outputs": []
    },
    {
      "cell_type": "code",
      "source": [
        "#we labelled medium priority as 1\n",
        "#low priority as 0\n",
        "priority_mapping = {\"Low\": 0, \"Medium\": 1, \"High\": 2}\n",
        "dataset[\"Priority\"] = dataset[\"Priority\"].map(priority_mapping)"
      ],
      "metadata": {
        "id": "KsmZItRxAehG"
      },
      "execution_count": 198,
      "outputs": []
    },
    {
      "cell_type": "code",
      "source": [
        "y=dataset.iloc[:,[7]].values"
      ],
      "metadata": {
        "id": "HRQo8pCvAhMC"
      },
      "execution_count": 199,
      "outputs": []
    },
    {
      "cell_type": "code",
      "source": [
        "ppriority_mapping = {\"M\": 34, \"S\": 33, \"C\": 33, \"W\":33}\n",
        "dataset[\"R_Priority\"] = dataset[\"R_Priority\"].map(ppriority_mapping)"
      ],
      "metadata": {
        "id": "cpairH6DAkNH"
      },
      "execution_count": 200,
      "outputs": []
    },
    {
      "cell_type": "code",
      "source": [
        "#in the dataset we encountered that time is minute format we changed it as completely in seconds\n",
        "def convert_to_seconds(time):\n",
        "    try:\n",
        "        minutes = float(time.split()[0])  \n",
        "        seconds = minutes * 60  \n",
        "        return int(seconds) \n",
        "    except (ValueError, AttributeError):\n",
        "        return np.nan  \n",
        "\n",
        "\n",
        "dataset[\"Time\"] = dataset[\"Time\"].apply(convert_to_seconds)\n",
        "\n",
        "\n",
        "mean_value = dataset[\"Time\"].mean()\n",
        "dataset[\"Time\"].fillna(mean_value, inplace=True)"
      ],
      "metadata": {
        "id": "jOPINt3-D47R"
      },
      "execution_count": 201,
      "outputs": []
    },
    {
      "cell_type": "code",
      "source": [
        "x=dataset.iloc[:,[0]+[1]+[2]+[4]+[5]+[6]].values\n",
        "print(x)"
      ],
      "metadata": {
        "colab": {
          "base_uri": "https://localhost:8080/"
        },
        "id": "q-rwnFhwA8Uw",
        "outputId": "4b21080c-f4b0-4b55-e6b4-80801a0921c5"
      },
      "execution_count": 202,
      "outputs": [
        {
          "output_type": "stream",
          "name": "stdout",
          "text": [
            "[[1.000e+00 3.300e+01 3.000e+00 3.000e+00 4.800e+02 1.680e+02]\n",
            " [2.000e+00 3.300e+01 3.000e+00 3.000e+00 2.400e+02 8.400e+01]\n",
            " [3.000e+00 3.300e+01 3.000e+00 3.000e+00 9.000e+01 3.150e+01]\n",
            " ...\n",
            " [1.312e+03 3.300e+01 3.000e+00 3.000e+00 2.400e+02 8.400e+01]\n",
            " [1.313e+03 3.400e+01 1.000e+00 1.000e+00 3.000e+02 3.500e+01]\n",
            " [1.314e+03 3.300e+01 3.000e+00 1.000e+00 2.700e+02 3.150e+01]]\n"
          ]
        }
      ]
    },
    {
      "cell_type": "code",
      "source": [
        "from sklearn.model_selection import train_test_split\n",
        "x_train,x_test,y_train,y_test=train_test_split(x,y,train_size=0.8,random_state=42)"
      ],
      "metadata": {
        "id": "Cx_uGje5BO0s"
      },
      "execution_count": 203,
      "outputs": []
    },
    {
      "cell_type": "code",
      "source": [
        "#we used support vector machine because we treated while prioritization it is ok to deal with false postive \n",
        "#dealing with false posive can be a postive sign rather leaving the false postive as insignificant\n",
        "from sklearn.svm import SVC\n",
        "classifier = SVC()\n",
        "classifier.fit(x_train, y_train)\n",
        "predictions = classifier.predict(x_test)\n"
      ],
      "metadata": {
        "colab": {
          "base_uri": "https://localhost:8080/"
        },
        "id": "OZwtzSaPI64R",
        "outputId": "f4b88470-90c4-49f1-d5a7-572ae1d258fc"
      },
      "execution_count": 204,
      "outputs": [
        {
          "output_type": "stream",
          "name": "stderr",
          "text": [
            "/usr/local/lib/python3.10/dist-packages/sklearn/utils/validation.py:1143: DataConversionWarning: A column-vector y was passed when a 1d array was expected. Please change the shape of y to (n_samples, ), for example using ravel().\n",
            "  y = column_or_1d(y, warn=True)\n"
          ]
        }
      ]
    },
    {
      "cell_type": "code",
      "source": [
        "#now enter the new dataset that has Bussiness Requirment, Bussiness requirment Prioirty, \n",
        "#functional_ priority,time,complexity,cost\n",
        "data=pd.read_csv('Test_Project_MIS.csv')"
      ],
      "metadata": {
        "id": "DpePa9jFJyGv"
      },
      "execution_count": 205,
      "outputs": []
    },
    {
      "cell_type": "code",
      "source": [
        "priority_mapping = {\"Low\": 0, \"Medium\": 1, \"High\": 2}\n",
        "data[\"Priority\"] = data[\"Priority\"].map(priority_mapping)"
      ],
      "metadata": {
        "id": "R6-yUL1xUANH"
      },
      "execution_count": 206,
      "outputs": []
    },
    {
      "cell_type": "code",
      "source": [
        "ppriority_mapping = {\"M\": 34, \"S\": 33, \"C\": 33, \"W\":33}\n",
        "data[\"R_Priority\"] = data[\"R_Priority\"].map(ppriority_mapping)"
      ],
      "metadata": {
        "id": "WhjEv6DFUJKi"
      },
      "execution_count": 207,
      "outputs": []
    },
    {
      "cell_type": "code",
      "source": [
        "def convert_to_seconds(time):\n",
        "    try:\n",
        "        minutes = float(time.split()[0])  \n",
        "        seconds = minutes * 60  \n",
        "        return int(seconds) \n",
        "    except (ValueError, AttributeError):\n",
        "        return np.nan  \n",
        "\n",
        "\n",
        "data[\"Time\"] = data[\"Time\"].apply(convert_to_seconds)\n",
        "\n",
        "\n",
        "mean_value = data[\"Time\"].mean()\n",
        "data[\"Time\"].fillna(mean_value, inplace=True)"
      ],
      "metadata": {
        "id": "HmgIaRb1UO1Z"
      },
      "execution_count": 208,
      "outputs": []
    },
    {
      "cell_type": "code",
      "source": [
        "x1=data.iloc[:,[0]+[1]+[2]+[4]+[5]+[6]].values"
      ],
      "metadata": {
        "id": "z89idvErUT2g"
      },
      "execution_count": 209,
      "outputs": []
    },
    {
      "cell_type": "code",
      "source": [
        "from sklearn.svm import SVC\n",
        "classifier = SVC()\n",
        "classifier.fit(x_train, y_train)\n",
        "predictions = classifier.predict(x_test)"
      ],
      "metadata": {
        "colab": {
          "base_uri": "https://localhost:8080/"
        },
        "id": "ynSWQapRUcYx",
        "outputId": "36b0e01c-c7ed-49dd-ad49-b679ce0d3b3e"
      },
      "execution_count": 210,
      "outputs": [
        {
          "output_type": "stream",
          "name": "stderr",
          "text": [
            "/usr/local/lib/python3.10/dist-packages/sklearn/utils/validation.py:1143: DataConversionWarning: A column-vector y was passed when a 1d array was expected. Please change the shape of y to (n_samples, ), for example using ravel().\n",
            "  y = column_or_1d(y, warn=True)\n"
          ]
        }
      ]
    },
    {
      "cell_type": "code",
      "source": [
        "print(x1)"
      ],
      "metadata": {
        "colab": {
          "base_uri": "https://localhost:8080/"
        },
        "id": "7Wly4vGrU9Ri",
        "outputId": "3b1a8d16-afb0-4dbc-cb76-e9f781a28764"
      },
      "execution_count": 211,
      "outputs": [
        {
          "output_type": "stream",
          "name": "stdout",
          "text": [
            "[[1.000e+00 3.300e+01 3.000e+00 3.000e+00 4.800e+02 1.680e+02]\n",
            " [2.000e+00 3.300e+01 3.000e+00 3.000e+00 2.400e+02 8.400e+01]\n",
            " [3.000e+00 3.300e+01 3.000e+00 3.000e+00 9.000e+01 3.150e+01]\n",
            " ...\n",
            " [1.312e+03 3.300e+01 3.000e+00 3.000e+00 2.400e+02 8.400e+01]\n",
            " [1.313e+03 3.400e+01 1.000e+00 1.000e+00 3.000e+02 3.500e+01]\n",
            " [1.314e+03 3.300e+01 3.000e+00 1.000e+00 2.700e+02 3.150e+01]]\n"
          ]
        }
      ]
    },
    {
      "cell_type": "code",
      "source": [
        "e=classifier.predict(x1)"
      ],
      "metadata": {
        "id": "miKEBZOtVehs"
      },
      "execution_count": 212,
      "outputs": []
    },
    {
      "cell_type": "code",
      "source": [
        "#this helps to choose the specific coloumns that need to be there in the output csv file\n",
        "output_df = pd.DataFrame({\"Bussiness_req\": data[\"B_Req\"],\"Cost\":data[\"Time\"],\"PrioritizationScore\": e})"
      ],
      "metadata": {
        "id": "K_y8Joh8Vj8K"
      },
      "execution_count": 213,
      "outputs": []
    },
    {
      "cell_type": "code",
      "source": [
        "#this will helps to generate a csv file that contains list of testcases that need to be executed first\n",
        "\n",
        "output_df.to_csv(\"output.csv\", index=False)"
      ],
      "metadata": {
        "id": "zP7qIOl1WnbN"
      },
      "execution_count": 214,
      "outputs": []
    },
    {
      "cell_type": "code",
      "source": [
        "import os\n",
        "\n",
        "print(os.getcwd())"
      ],
      "metadata": {
        "colab": {
          "base_uri": "https://localhost:8080/"
        },
        "id": "e4-Vt29HXBjo",
        "outputId": "148268e2-b68d-4132-c8fc-dd460ada8e52"
      },
      "execution_count": 215,
      "outputs": [
        {
          "output_type": "stream",
          "name": "stdout",
          "text": [
            "/content\n"
          ]
        }
      ]
    }
  ]
}